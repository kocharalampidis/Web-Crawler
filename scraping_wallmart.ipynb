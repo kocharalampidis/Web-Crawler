{
 "cells": [
  {
   "cell_type": "code",
   "execution_count": 17,
   "metadata": {},
   "outputs": [],
   "source": [
    "import pandas as pd\n",
    "import re \n",
    "import requests\n",
    "from bs4 import BeautifulSoup"
   ]
  },
  {
   "cell_type": "code",
   "execution_count": 10,
   "metadata": {},
   "outputs": [],
   "source": [
    "# assign the url to a variable\n",
    "url = 'https://www.walmart.com/browse/electronics/laptop-computers/hp/3944_3951_132960/YnJhbmQ6SFAie?page=1#searchProductResult'\n",
    "\n",
    "# create a hit request to the site\n",
    "response = requests.get(url)"
   ]
  },
  {
   "cell_type": "code",
   "execution_count": 11,
   "metadata": {},
   "outputs": [],
   "source": [
    "# create a BeatifulSoup object to scrape the site's contents\n",
    "soup = BeautifulSoup(response.content, 'lxml')"
   ]
  },
  {
   "cell_type": "code",
   "execution_count": 13,
   "metadata": {
    "collapsed": true
   },
   "outputs": [
    {
     "data": {
      "text/plain": [
       "['Hp 14 Laptop, 14\" HD Display, Intel Core i5-1035G1, Intel UHD Graphics, 8 GB SDRAM, 256 GB M.2 Solid State Drive + 16GB Intel Optane memory, Pale Gold, 14-dq1040wm',\n",
       " 'HP Pavilion Laptop 15.6\" Full HD Display, AMD Ryzen 5 3500U, AMD Radeon Vega 8 Graphics, 8GB SDRAM, 1TB HDD + 128GB SSD, Horizon Blue, 15-cw1068wm',\n",
       " 'Omen by HP Gaming Laptop 15.6\", Intel Core i7-9750H, NVIDIA GTX 1660Ti 6GB, 16GB RAM, 256GB SSD, Omen Headset and Mouse Included ($100 Value), 15-dc1088wm',\n",
       " 'HP Pavilion 15.6\" Gaming Laptop Intel Core i5+8300H, NVIDIA GeForce GTX 1050 4GB GPU, 8GB RAM, 16 GB Intel Optane + 1TB HDD Storage, Windows 10, 15-cx0058wm',\n",
       " 'HP 15 Laptop Bundle, 15.6\", AMD A4-9125, AMD Radeon R3 Graphics, 4GB SDRAM, 500GB HDD, Wireless Mouse, Sleeve, Berry Mauve, 15-db0094wm',\n",
       " 'Refurbished HP Ultrabook Black 14\" Elitebook 840 G1 WA5-0787 Laptop PC with Intel Core i5-4300U Processor, 8GB Memory, 256GB Solid State Drive and Windows 10 Pro',\n",
       " 'Refurbished HP Chromebook 14 G1 14\" LED Chromebook Intel Celeron Dual Core 4GB 16GB F7W49UA',\n",
       " 'HP Stream 14-cb011wm, 14\" HD Display, Intel N3060, 4GB RAM, 32GB SSD, Windows 10 Home S Mode, Blue',\n",
       " 'HP Envy 13 Ultra Thin Laptop 13.3\" Full-HD, Intel Core i5-8250U, Intel UHD Graphics 620, 256GB SSD, 8GB SDRAM, Fingerprint reader, 13-ah0051wm',\n",
       " 'HP 14 Laptop, Intel Core i3-1005G1, 4GB SDRAM, 128GB SSD, Pale Gold, 14-dq1038wm']"
      ]
     },
     "execution_count": 13,
     "metadata": {},
     "output_type": "execute_result"
    }
   ],
   "source": [
    "# after navigating through html code, with right click - inspect on page\n",
    "# found the content i'm interested in\n",
    "# laptops and their value\n",
    "regex = re.compile('^Grid-col u-size-6-12 ')\n",
    "laptops = []\n",
    "for i in soup.find_all('li', attrs={'class':regex}):\n",
    "    laptops.append(i.img['alt'])\n",
    "laptops"
   ]
  },
  {
   "cell_type": "code",
   "execution_count": 22,
   "metadata": {},
   "outputs": [],
   "source": [
    "# create the DataFrame\n",
    "df = pd.DataFrame(laptops, columns = ['Name and Specs'])\n",
    "df"
   ]
  },
  {
   "cell_type": "code",
   "execution_count": 23,
   "metadata": {},
   "outputs": [
    {
     "data": {
      "text/html": [
       "<div>\n",
       "<style scoped>\n",
       "    .dataframe tbody tr th:only-of-type {\n",
       "        vertical-align: middle;\n",
       "    }\n",
       "\n",
       "    .dataframe tbody tr th {\n",
       "        vertical-align: top;\n",
       "    }\n",
       "\n",
       "    .dataframe thead th {\n",
       "        text-align: right;\n",
       "    }\n",
       "</style>\n",
       "<table border=\"1\" class=\"dataframe\">\n",
       "  <thead>\n",
       "    <tr style=\"text-align: right;\">\n",
       "      <th></th>\n",
       "      <th>Name and Specs</th>\n",
       "    </tr>\n",
       "  </thead>\n",
       "  <tbody>\n",
       "    <tr>\n",
       "      <th>0</th>\n",
       "      <td>Hp 14 Laptop, 14\" HD Display, Intel Core i5-10...</td>\n",
       "    </tr>\n",
       "    <tr>\n",
       "      <th>1</th>\n",
       "      <td>HP Pavilion Laptop 15.6\" Full HD Display, AMD ...</td>\n",
       "    </tr>\n",
       "    <tr>\n",
       "      <th>2</th>\n",
       "      <td>Omen by HP Gaming Laptop 15.6\", Intel Core i7-...</td>\n",
       "    </tr>\n",
       "    <tr>\n",
       "      <th>3</th>\n",
       "      <td>HP Pavilion 15.6\" Gaming Laptop Intel Core i5+...</td>\n",
       "    </tr>\n",
       "    <tr>\n",
       "      <th>4</th>\n",
       "      <td>HP 15 Laptop Bundle, 15.6\", AMD A4-9125, AMD R...</td>\n",
       "    </tr>\n",
       "    <tr>\n",
       "      <th>5</th>\n",
       "      <td>Refurbished HP Ultrabook Black 14\" Elitebook 8...</td>\n",
       "    </tr>\n",
       "    <tr>\n",
       "      <th>6</th>\n",
       "      <td>Refurbished HP Chromebook 14 G1 14\" LED Chrome...</td>\n",
       "    </tr>\n",
       "    <tr>\n",
       "      <th>7</th>\n",
       "      <td>HP Stream 14-cb011wm, 14\" HD Display, Intel N3...</td>\n",
       "    </tr>\n",
       "    <tr>\n",
       "      <th>8</th>\n",
       "      <td>HP Envy 13 Ultra Thin Laptop 13.3\" Full-HD, In...</td>\n",
       "    </tr>\n",
       "    <tr>\n",
       "      <th>9</th>\n",
       "      <td>HP 14 Laptop, Intel Core i3-1005G1, 4GB SDRAM,...</td>\n",
       "    </tr>\n",
       "  </tbody>\n",
       "</table>\n",
       "</div>"
      ],
      "text/plain": [
       "                                      Name and Specs\n",
       "0  Hp 14 Laptop, 14\" HD Display, Intel Core i5-10...\n",
       "1  HP Pavilion Laptop 15.6\" Full HD Display, AMD ...\n",
       "2  Omen by HP Gaming Laptop 15.6\", Intel Core i7-...\n",
       "3  HP Pavilion 15.6\" Gaming Laptop Intel Core i5+...\n",
       "4  HP 15 Laptop Bundle, 15.6\", AMD A4-9125, AMD R...\n",
       "5  Refurbished HP Ultrabook Black 14\" Elitebook 8...\n",
       "6  Refurbished HP Chromebook 14 G1 14\" LED Chrome...\n",
       "7  HP Stream 14-cb011wm, 14\" HD Display, Intel N3...\n",
       "8  HP Envy 13 Ultra Thin Laptop 13.3\" Full-HD, In...\n",
       "9  HP 14 Laptop, Intel Core i3-1005G1, 4GB SDRAM,..."
      ]
     },
     "execution_count": 23,
     "metadata": {},
     "output_type": "execute_result"
    }
   ],
   "source": []
  },
  {
   "cell_type": "code",
   "execution_count": null,
   "metadata": {},
   "outputs": [],
   "source": []
  },
  {
   "cell_type": "code",
   "execution_count": null,
   "metadata": {},
   "outputs": [],
   "source": []
  }
 ],
 "metadata": {
  "kernelspec": {
   "display_name": "Python 3",
   "language": "python",
   "name": "python3"
  },
  "language_info": {
   "codemirror_mode": {
    "name": "ipython",
    "version": 3
   },
   "file_extension": ".py",
   "mimetype": "text/x-python",
   "name": "python",
   "nbconvert_exporter": "python",
   "pygments_lexer": "ipython3",
   "version": "3.7.4"
  }
 },
 "nbformat": 4,
 "nbformat_minor": 2
}
